{
 "cells": [
  {
   "cell_type": "markdown",
   "metadata": {},
   "source": [
    "# **Appendix - Data Crawling from the Twitter API**"
   ]
  },
  {
   "cell_type": "code",
   "execution_count": 118,
   "metadata": {},
   "outputs": [],
   "source": [
    "import json\n",
    "import tweepy as tw"
   ]
  },
  {
   "cell_type": "code",
   "execution_count": 119,
   "metadata": {},
   "outputs": [],
   "source": [
    "import config_twitter"
   ]
  },
  {
   "cell_type": "code",
   "execution_count": 120,
   "metadata": {},
   "outputs": [],
   "source": [
    "def connect_api_client():\n",
    "    auth = tw.OAuthHandler(config_twitter.consumer_key, config_twitter.consumer_secret)\n",
    "    auth.set_access_token(config_twitter.access_token, config_twitter.access_token_secret)\n",
    "    api = tw.API(auth, wait_on_rate_limit=True)\n",
    "    try:\n",
    "        api.verify_credentials()\n",
    "        user = api.verify_credentials()\n",
    "        if not user:\n",
    "            raise(\"Credentials could not be verified: Please check config.py\")\n",
    "        print(f\"Connected to Twitter API as {user.name}\")\n",
    "    except Exception as e:\n",
    "        raise e\n",
    "    return api"
   ]
  },
  {
   "cell_type": "code",
   "execution_count": 121,
   "metadata": {},
   "outputs": [
    {
     "name": "stdout",
     "output_type": "stream",
     "text": [
      "Connected to Twitter API as william wu\n"
     ]
    }
   ],
   "source": [
    "api = connect_api_client()"
   ]
  },
  {
   "cell_type": "code",
   "execution_count": 125,
   "metadata": {},
   "outputs": [],
   "source": [
    "query = '\"pioneer dj\" OR numark OR \"rane dj\" OR \"denon dj\" OR \"dj mixer\" OR \"dj controller\" OR \"dj turntable\" OR \"cdj\"'"
   ]
  },
  {
   "cell_type": "code",
   "execution_count": 126,
   "metadata": {},
   "outputs": [],
   "source": [
    "ntweets = 4000"
   ]
  },
  {
   "cell_type": "code",
   "execution_count": 127,
   "metadata": {},
   "outputs": [
    {
     "data": {
      "text/plain": [
       "2070"
      ]
     },
     "execution_count": 127,
     "metadata": {},
     "output_type": "execute_result"
    }
   ],
   "source": [
    "tweets = [tweet._json for tweet in tw.Cursor(api.search, q=query, lang=\"en\", tweet_mode='extended').items(ntweets)]\n",
    "len(tweets)"
   ]
  },
  {
   "cell_type": "code",
   "execution_count": 128,
   "metadata": {},
   "outputs": [
    {
     "data": {
      "text/plain": [
       "{'created_at': 'Sun Jul 25 11:39:18 +0000 2021',\n",
       " 'id': 1419260970925498370,\n",
       " 'id_str': '1419260970925498370',\n",
       " 'full_text': '\"Triple Fire\" is hot, hot, hot. Eargasms Du Jour. Volume 3 is a fine example of DJ TurnTable Ty\\'s talents. You will enjoy his Beautiful Blends of this collection of hot music.\\nhttps://t.co/1vh17kjhSf 05\\n#MobileDJ',\n",
       " 'truncated': False,\n",
       " 'display_text_range': [0, 212],\n",
       " 'entities': {'hashtags': [{'text': 'MobileDJ', 'indices': [203, 212]}],\n",
       "  'symbols': [],\n",
       "  'user_mentions': [],\n",
       "  'urls': [{'url': 'https://t.co/1vh17kjhSf',\n",
       "    'expanded_url': 'https://mixcloud.com/Tomthunkit/triple-f/',\n",
       "    'display_url': 'mixcloud.com/Tomthunkit/tri…',\n",
       "    'indices': [176, 199]}]},\n",
       " 'metadata': {'iso_language_code': 'en', 'result_type': 'recent'},\n",
       " 'source': '<a href=\"https://www.socialjukebox.com\" rel=\"nofollow\">The Social Jukebox</a>',\n",
       " 'in_reply_to_status_id': None,\n",
       " 'in_reply_to_status_id_str': None,\n",
       " 'in_reply_to_user_id': None,\n",
       " 'in_reply_to_user_id_str': None,\n",
       " 'in_reply_to_screen_name': None,\n",
       " 'user': {'id': 734250210260553728,\n",
       "  'id_str': '734250210260553728',\n",
       "  'name': 'Turntable Ty',\n",
       "  'screen_name': 'TurntableTy1',\n",
       "  'location': 'Atlanta, GA',\n",
       "  'description': 'Get hot mixes with Beautiful Blends of Hip Hop, R&B, Old School, Dance, Reggae, Trap, Panjabi, & Country #WeddingDJ #MobileDJ #PartyDJ #DJSet #EventsDJ',\n",
       "  'url': 'https://t.co/rCGYR7tVZT',\n",
       "  'entities': {'url': {'urls': [{'url': 'https://t.co/rCGYR7tVZT',\n",
       "      'expanded_url': 'https://vippusa.org/dj-turntable-tys-hot-mix',\n",
       "      'display_url': 'vippusa.org/dj-turntable-t…',\n",
       "      'indices': [0, 23]}]},\n",
       "   'description': {'urls': []}},\n",
       "  'protected': False,\n",
       "  'followers_count': 406,\n",
       "  'friends_count': 1085,\n",
       "  'listed_count': 35,\n",
       "  'created_at': 'Sun May 22 05:11:06 +0000 2016',\n",
       "  'favourites_count': 126,\n",
       "  'utc_offset': None,\n",
       "  'time_zone': None,\n",
       "  'geo_enabled': False,\n",
       "  'verified': False,\n",
       "  'statuses_count': 57298,\n",
       "  'lang': None,\n",
       "  'contributors_enabled': False,\n",
       "  'is_translator': False,\n",
       "  'is_translation_enabled': False,\n",
       "  'profile_background_color': 'F5F8FA',\n",
       "  'profile_background_image_url': None,\n",
       "  'profile_background_image_url_https': None,\n",
       "  'profile_background_tile': False,\n",
       "  'profile_image_url': 'http://pbs.twimg.com/profile_images/738042959669518340/qH9VF0OL_normal.jpg',\n",
       "  'profile_image_url_https': 'https://pbs.twimg.com/profile_images/738042959669518340/qH9VF0OL_normal.jpg',\n",
       "  'profile_banner_url': 'https://pbs.twimg.com/profile_banners/734250210260553728/1621341990',\n",
       "  'profile_link_color': '1DA1F2',\n",
       "  'profile_sidebar_border_color': 'C0DEED',\n",
       "  'profile_sidebar_fill_color': 'DDEEF6',\n",
       "  'profile_text_color': '333333',\n",
       "  'profile_use_background_image': True,\n",
       "  'has_extended_profile': True,\n",
       "  'default_profile': True,\n",
       "  'default_profile_image': False,\n",
       "  'following': False,\n",
       "  'follow_request_sent': False,\n",
       "  'notifications': False,\n",
       "  'translator_type': 'none',\n",
       "  'withheld_in_countries': []},\n",
       " 'geo': None,\n",
       " 'coordinates': None,\n",
       " 'place': None,\n",
       " 'contributors': None,\n",
       " 'is_quote_status': False,\n",
       " 'retweet_count': 0,\n",
       " 'favorite_count': 0,\n",
       " 'favorited': False,\n",
       " 'retweeted': False,\n",
       " 'possibly_sensitive': False,\n",
       " 'lang': 'en'}"
      ]
     },
     "execution_count": 128,
     "metadata": {},
     "output_type": "execute_result"
    }
   ],
   "source": [
    "tweets[0]"
   ]
  },
  {
   "cell_type": "code",
   "execution_count": 129,
   "metadata": {},
   "outputs": [],
   "source": [
    "file_out = f\"dj_products_data_{ntweets}.json\"\n",
    "with open(file_out, mode='w') as f:\n",
    "    f.write(json.dumps(tweets, indent=2))"
   ]
  },
  {
   "cell_type": "code",
   "execution_count": null,
   "metadata": {},
   "outputs": [],
   "source": []
  }
 ],
 "metadata": {
  "kernelspec": {
   "display_name": "Python 3",
   "language": "python",
   "name": "python3"
  },
  "language_info": {
   "codemirror_mode": {
    "name": "ipython",
    "version": 3
   },
   "file_extension": ".py",
   "mimetype": "text/x-python",
   "name": "python",
   "nbconvert_exporter": "python",
   "pygments_lexer": "ipython3",
   "version": "3.7.6"
  },
  "toc": {
   "base_numbering": 1,
   "nav_menu": {},
   "number_sections": false,
   "sideBar": true,
   "skip_h1_title": false,
   "title_cell": "Table of Contents",
   "title_sidebar": "Contents",
   "toc_cell": false,
   "toc_position": {},
   "toc_section_display": true,
   "toc_window_display": true
  }
 },
 "nbformat": 4,
 "nbformat_minor": 4
}
